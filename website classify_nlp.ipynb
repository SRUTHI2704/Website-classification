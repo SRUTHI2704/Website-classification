{
 "cells": [
  {
   "cell_type": "code",
   "execution_count": null,
   "metadata": {},
   "outputs": [],
   "source": [
    "import pandas as pd"
   ]
  },
  {
   "cell_type": "code",
   "execution_count": null,
   "metadata": {},
   "outputs": [],
   "source": [
    "data = pd.read_csv(\"C:\\\\Users\\\\RAMAKRISHNAN\\\\Downloads\\\\website_classification.csv.zip\")"
   ]
  },
  {
   "cell_type": "code",
   "execution_count": 3,
   "metadata": {},
   "outputs": [
    {
     "data": {
      "text/html": [
       "<div>\n",
       "<style scoped>\n",
       "    .dataframe tbody tr th:only-of-type {\n",
       "        vertical-align: middle;\n",
       "    }\n",
       "\n",
       "    .dataframe tbody tr th {\n",
       "        vertical-align: top;\n",
       "    }\n",
       "\n",
       "    .dataframe thead th {\n",
       "        text-align: right;\n",
       "    }\n",
       "</style>\n",
       "<table border=\"1\" class=\"dataframe\">\n",
       "  <thead>\n",
       "    <tr style=\"text-align: right;\">\n",
       "      <th></th>\n",
       "      <th>Unnamed: 0</th>\n",
       "      <th>website_url</th>\n",
       "      <th>cleaned_website_text</th>\n",
       "      <th>Category</th>\n",
       "    </tr>\n",
       "  </thead>\n",
       "  <tbody>\n",
       "    <tr>\n",
       "      <th>0</th>\n",
       "      <td>0</td>\n",
       "      <td>https://www.booking.com/index.html?aid=1743217</td>\n",
       "      <td>official site good hotel accommodation big sav...</td>\n",
       "      <td>Travel</td>\n",
       "    </tr>\n",
       "    <tr>\n",
       "      <th>1</th>\n",
       "      <td>1</td>\n",
       "      <td>https://travelsites.com/expedia/</td>\n",
       "      <td>expedia hotel book sites like use vacation wor...</td>\n",
       "      <td>Travel</td>\n",
       "    </tr>\n",
       "    <tr>\n",
       "      <th>2</th>\n",
       "      <td>2</td>\n",
       "      <td>https://travelsites.com/tripadvisor/</td>\n",
       "      <td>tripadvisor hotel book sites like previously d...</td>\n",
       "      <td>Travel</td>\n",
       "    </tr>\n",
       "    <tr>\n",
       "      <th>3</th>\n",
       "      <td>3</td>\n",
       "      <td>https://www.momondo.in/?ispredir=true</td>\n",
       "      <td>cheap flights search compare flights momondo f...</td>\n",
       "      <td>Travel</td>\n",
       "    </tr>\n",
       "    <tr>\n",
       "      <th>4</th>\n",
       "      <td>4</td>\n",
       "      <td>https://www.ebookers.com/?AFFCID=EBOOKERS-UK.n...</td>\n",
       "      <td>bot create free account create free account si...</td>\n",
       "      <td>Travel</td>\n",
       "    </tr>\n",
       "    <tr>\n",
       "      <th>...</th>\n",
       "      <td>...</td>\n",
       "      <td>...</td>\n",
       "      <td>...</td>\n",
       "      <td>...</td>\n",
       "    </tr>\n",
       "    <tr>\n",
       "      <th>1403</th>\n",
       "      <td>1403</td>\n",
       "      <td>http://www.oldwomen.org/</td>\n",
       "      <td>old nude women porn mature granny sex horny ol...</td>\n",
       "      <td>Adult</td>\n",
       "    </tr>\n",
       "    <tr>\n",
       "      <th>1404</th>\n",
       "      <td>1404</td>\n",
       "      <td>http://www.webcamslave.com</td>\n",
       "      <td>bdsm cams bdsm chat bondage cams free bdsm vid...</td>\n",
       "      <td>Adult</td>\n",
       "    </tr>\n",
       "    <tr>\n",
       "      <th>1405</th>\n",
       "      <td>1405</td>\n",
       "      <td>http://www.buyeuroporn.com/</td>\n",
       "      <td>porno dvd online european porn dvd cheap adult...</td>\n",
       "      <td>Adult</td>\n",
       "    </tr>\n",
       "    <tr>\n",
       "      <th>1406</th>\n",
       "      <td>1406</td>\n",
       "      <td>http://www.analdreamhouse.com/30/03/agecheck/i...</td>\n",
       "      <td>anal dream house anal dream house anal dream h...</td>\n",
       "      <td>Adult</td>\n",
       "    </tr>\n",
       "    <tr>\n",
       "      <th>1407</th>\n",
       "      <td>1407</td>\n",
       "      <td>http://www.world-sex-news.com/</td>\n",
       "      <td>world sex news daily sex news adult news eroti...</td>\n",
       "      <td>Adult</td>\n",
       "    </tr>\n",
       "  </tbody>\n",
       "</table>\n",
       "<p>1408 rows × 4 columns</p>\n",
       "</div>"
      ],
      "text/plain": [
       "      Unnamed: 0                                        website_url  \\\n",
       "0              0     https://www.booking.com/index.html?aid=1743217   \n",
       "1              1                   https://travelsites.com/expedia/   \n",
       "2              2               https://travelsites.com/tripadvisor/   \n",
       "3              3              https://www.momondo.in/?ispredir=true   \n",
       "4              4  https://www.ebookers.com/?AFFCID=EBOOKERS-UK.n...   \n",
       "...          ...                                                ...   \n",
       "1403        1403                           http://www.oldwomen.org/   \n",
       "1404        1404                         http://www.webcamslave.com   \n",
       "1405        1405                        http://www.buyeuroporn.com/   \n",
       "1406        1406  http://www.analdreamhouse.com/30/03/agecheck/i...   \n",
       "1407        1407                     http://www.world-sex-news.com/   \n",
       "\n",
       "                                   cleaned_website_text Category  \n",
       "0     official site good hotel accommodation big sav...   Travel  \n",
       "1     expedia hotel book sites like use vacation wor...   Travel  \n",
       "2     tripadvisor hotel book sites like previously d...   Travel  \n",
       "3     cheap flights search compare flights momondo f...   Travel  \n",
       "4     bot create free account create free account si...   Travel  \n",
       "...                                                 ...      ...  \n",
       "1403  old nude women porn mature granny sex horny ol...    Adult  \n",
       "1404  bdsm cams bdsm chat bondage cams free bdsm vid...    Adult  \n",
       "1405  porno dvd online european porn dvd cheap adult...    Adult  \n",
       "1406  anal dream house anal dream house anal dream h...    Adult  \n",
       "1407  world sex news daily sex news adult news eroti...    Adult  \n",
       "\n",
       "[1408 rows x 4 columns]"
      ]
     },
     "execution_count": 3,
     "metadata": {},
     "output_type": "execute_result"
    }
   ],
   "source": [
    "data"
   ]
  },
  {
   "cell_type": "code",
   "execution_count": 4,
   "metadata": {},
   "outputs": [
    {
     "data": {
      "text/plain": [
       "Unnamed: 0              0\n",
       "website_url             0\n",
       "cleaned_website_text    0\n",
       "Category                0\n",
       "dtype: int64"
      ]
     },
     "execution_count": 4,
     "metadata": {},
     "output_type": "execute_result"
    }
   ],
   "source": [
    "#data preprocessing\n",
    "data.isnull().sum()"
   ]
  },
  {
   "cell_type": "code",
   "execution_count": 5,
   "metadata": {},
   "outputs": [
    {
     "name": "stdout",
     "output_type": "stream",
     "text": [
      "<class 'pandas.core.frame.DataFrame'>\n",
      "RangeIndex: 1408 entries, 0 to 1407\n",
      "Data columns (total 4 columns):\n",
      " #   Column                Non-Null Count  Dtype \n",
      "---  ------                --------------  ----- \n",
      " 0   Unnamed: 0            1408 non-null   int64 \n",
      " 1   website_url           1408 non-null   object\n",
      " 2   cleaned_website_text  1408 non-null   object\n",
      " 3   Category              1408 non-null   object\n",
      "dtypes: int64(1), object(3)\n",
      "memory usage: 44.1+ KB\n"
     ]
    }
   ],
   "source": [
    "data.info()"
   ]
  },
  {
   "cell_type": "code",
   "execution_count": null,
   "metadata": {},
   "outputs": [],
   "source": [
    "from matplotlib import pyplot as plt"
   ]
  },
  {
   "cell_type": "code",
   "execution_count": null,
   "metadata": {},
   "outputs": [],
   "source": [
    "import seaborn as sns"
   ]
  },
  {
   "cell_type": "code",
   "execution_count": 22,
   "metadata": {},
   "outputs": [
    {
     "data": {
      "text/plain": [
       "<AxesSubplot:xlabel='website_url', ylabel='Category'>"
      ]
     },
     "execution_count": 22,
     "metadata": {},
     "output_type": "execute_result"
    },
    {
     "data": {
      "image/png": "[encoded data removed]",
      "text/plain": [
       "<Figure size 432x288 with 1 Axes>"
      ]
     },
     "metadata": {
      "needs_background": "light"
     },
     "output_type": "display_data"
    }
   ],
   "source": [
    "sns.histplot(x = data[\"website_url\"],y = data[\"Category\"])"
   ]
  },
  {
   "cell_type": "code",
   "execution_count": null,
   "metadata": {},
   "outputs": [],
   "source": [
    "sns.histplot(x = data[\"cleaned_website_text\"],y = data[\"Category\"])\n",
    "plt.show()"
   ]
  },
  {
   "cell_type": "code",
   "execution_count": 6,
   "metadata": {},
   "outputs": [
    {
     "data": {
      "text/plain": [
       "Education                          114\n",
       "Business/Corporate                 109\n",
       "Travel                             107\n",
       "Streaming Services                 105\n",
       "Sports                             104\n",
       "E-Commerce                         102\n",
       "Games                               98\n",
       "News                                96\n",
       "Health and Fitness                  96\n",
       "Computers and Technology            93\n",
       "Photography                         93\n",
       "Food                                92\n",
       "Law and Government                  84\n",
       "Social Networking and Messaging     83\n",
       "Forums                              16\n",
       "Adult                               16\n",
       "Name: Category, dtype: int64"
      ]
     },
     "execution_count": 6,
     "metadata": {},
     "output_type": "execute_result"
    }
   ],
   "source": [
    "data[\"Category\"].value_counts()"
   ]
  },
  {
   "cell_type": "code",
   "execution_count": 7,
   "metadata": {},
   "outputs": [
    {
     "data": {
      "text/plain": [
       "array(['Travel', 'Social Networking and Messaging', 'News',\n",
       "       'Streaming Services', 'Sports', 'Photography',\n",
       "       'Law and Government', 'Health and Fitness', 'Games', 'E-Commerce',\n",
       "       'Forums', 'Food', 'Education', 'Computers and Technology',\n",
       "       'Business/Corporate', 'Adult'], dtype=object)"
      ]
     },
     "execution_count": 7,
     "metadata": {},
     "output_type": "execute_result"
    }
   ],
   "source": [
    "data[\"Category\"].unique()"
   ]
  },
  {
   "cell_type": "code",
   "execution_count": 8,
   "metadata": {},
   "outputs": [],
   "source": [
    "import nltk"
   ]
  },
  {
   "cell_type": "code",
   "execution_count": 9,
   "metadata": {},
   "outputs": [],
   "source": [
    "from nltk.corpus import stopwords"
   ]
  },
  {
   "cell_type": "code",
   "execution_count": 10,
   "metadata": {},
   "outputs": [],
   "source": [
    "from nltk.tokenize import word_tokenize"
   ]
  },
  {
   "cell_type": "code",
   "execution_count": 11,
   "metadata": {},
   "outputs": [],
   "source": [
    "from nltk.tokenize import RegexpTokenizer"
   ]
  },
  {
   "cell_type": "code",
   "execution_count": 12,
   "metadata": {},
   "outputs": [],
   "source": [
    "from nltk.stem import WordNetLemmatizer"
   ]
  },
  {
   "cell_type": "code",
   "execution_count": 13,
   "metadata": {},
   "outputs": [],
   "source": [
    "from nltk.stem import PorterStemmer"
   ]
  },
  {
   "cell_type": "code",
   "execution_count": 14,
   "metadata": {},
   "outputs": [],
   "source": [
    "from sklearn.feature_extraction.text import TfidfVectorizer"
   ]
  },
  {
   "cell_type": "code",
   "execution_count": 15,
   "metadata": {},
   "outputs": [],
   "source": [
    "from sklearn.feature_extraction.text import CountVectorizer"
   ]
  },
  {
   "cell_type": "code",
   "execution_count": 16,
   "metadata": {},
   "outputs": [],
   "source": [
    "import string"
   ]
  },
  {
   "cell_type": "code",
   "execution_count": 17,
   "metadata": {},
   "outputs": [],
   "source": [
    "data[\"clean_text_punc\"] = data[\"cleaned_website_text\"].apply(lambda x : \"\". join([word for word in x if word not in string.punctuation]))"
   ]
  },
  {
   "cell_type": "code",
   "execution_count": 18,
   "metadata": {},
   "outputs": [
    {
     "data": {
      "text/html": [
       "<div>\n",
       "<style scoped>\n",
       "    .dataframe tbody tr th:only-of-type {\n",
       "        vertical-align: middle;\n",
       "    }\n",
       "\n",
       "    .dataframe tbody tr th {\n",
       "        vertical-align: top;\n",
       "    }\n",
       "\n",
       "    .dataframe thead th {\n",
       "        text-align: right;\n",
       "    }\n",
       "</style>\n",
       "<table border=\"1\" class=\"dataframe\">\n",
       "  <thead>\n",
       "    <tr style=\"text-align: right;\">\n",
       "      <th></th>\n",
       "      <th>Unnamed: 0</th>\n",
       "      <th>website_url</th>\n",
       "      <th>cleaned_website_text</th>\n",
       "      <th>Category</th>\n",
       "      <th>clean_text_punc</th>\n",
       "    </tr>\n",
       "  </thead>\n",
       "  <tbody>\n",
       "    <tr>\n",
       "      <th>0</th>\n",
       "      <td>0</td>\n",
       "      <td>https://www.booking.com/index.html?aid=1743217</td>\n",
       "      <td>official site good hotel accommodation big sav...</td>\n",
       "      <td>Travel</td>\n",
       "      <td>official site good hotel accommodation big sav...</td>\n",
       "    </tr>\n",
       "    <tr>\n",
       "      <th>1</th>\n",
       "      <td>1</td>\n",
       "      <td>https://travelsites.com/expedia/</td>\n",
       "      <td>expedia hotel book sites like use vacation wor...</td>\n",
       "      <td>Travel</td>\n",
       "      <td>expedia hotel book sites like use vacation wor...</td>\n",
       "    </tr>\n",
       "    <tr>\n",
       "      <th>2</th>\n",
       "      <td>2</td>\n",
       "      <td>https://travelsites.com/tripadvisor/</td>\n",
       "      <td>tripadvisor hotel book sites like previously d...</td>\n",
       "      <td>Travel</td>\n",
       "      <td>tripadvisor hotel book sites like previously d...</td>\n",
       "    </tr>\n",
       "  </tbody>\n",
       "</table>\n",
       "</div>"
      ],
      "text/plain": [
       "   Unnamed: 0                                     website_url  \\\n",
       "0           0  https://www.booking.com/index.html?aid=1743217   \n",
       "1           1                https://travelsites.com/expedia/   \n",
       "2           2            https://travelsites.com/tripadvisor/   \n",
       "\n",
       "                                cleaned_website_text Category  \\\n",
       "0  official site good hotel accommodation big sav...   Travel   \n",
       "1  expedia hotel book sites like use vacation wor...   Travel   \n",
       "2  tripadvisor hotel book sites like previously d...   Travel   \n",
       "\n",
       "                                     clean_text_punc  \n",
       "0  official site good hotel accommodation big sav...  \n",
       "1  expedia hotel book sites like use vacation wor...  \n",
       "2  tripadvisor hotel book sites like previously d...  "
      ]
     },
     "execution_count": 18,
     "metadata": {},
     "output_type": "execute_result"
    }
   ],
   "source": [
    "data.head(3)"
   ]
  },
  {
   "cell_type": "code",
   "execution_count": 19,
   "metadata": {},
   "outputs": [
    {
     "name": "stderr",
     "output_type": "stream",
     "text": [
      "[nltk_data] Downloading package stopwords to\n",
      "[nltk_data]     C:\\Users\\RAMAKRISHNAN\\AppData\\Roaming\\nltk_data...\n",
      "[nltk_data]   Package stopwords is already up-to-date!\n"
     ]
    },
    {
     "data": {
      "text/plain": [
       "True"
      ]
     },
     "execution_count": 19,
     "metadata": {},
     "output_type": "execute_result"
    }
   ],
   "source": [
    "nltk.download(\"stopwords\")"
   ]
  },
  {
   "cell_type": "code",
   "execution_count": 20,
   "metadata": {},
   "outputs": [],
   "source": [
    "stopword_master = stopwords.words(\"english\")"
   ]
  },
  {
   "cell_type": "code",
   "execution_count": 21,
   "metadata": {},
   "outputs": [],
   "source": [
    "data[\"clean_text_stop\"] = data[\"clean_text_punc\"].apply(lambda x : \"\". join([word for word in x if word not in stopword_master]))\n"
   ]
  },
  {
   "cell_type": "code",
   "execution_count": 22,
   "metadata": {},
   "outputs": [],
   "source": [
    "stemmer = PorterStemmer()"
   ]
  },
  {
   "cell_type": "code",
   "execution_count": 23,
   "metadata": {},
   "outputs": [],
   "source": [
    "data[\"clean_lower\"] = data[\"clean_text_stop\"].apply(lambda x : \"\". join([str(word.lower())for word in x.split()]))"
   ]
  },
  {
   "cell_type": "code",
   "execution_count": 24,
   "metadata": {},
   "outputs": [],
   "source": [
    "data[\"clean_stem\"] = data[\"clean_lower\"].apply(lambda x : \"\". join([stemmer.stem(word) for word in x.split()]))"
   ]
  },
  {
   "cell_type": "code",
   "execution_count": 25,
   "metadata": {},
   "outputs": [
    {
     "data": {
      "text/html": [
       "<div>\n",
       "<style scoped>\n",
       "    .dataframe tbody tr th:only-of-type {\n",
       "        vertical-align: middle;\n",
       "    }\n",
       "\n",
       "    .dataframe tbody tr th {\n",
       "        vertical-align: top;\n",
       "    }\n",
       "\n",
       "    .dataframe thead th {\n",
       "        text-align: right;\n",
       "    }\n",
       "</style>\n",
       "<table border=\"1\" class=\"dataframe\">\n",
       "  <thead>\n",
       "    <tr style=\"text-align: right;\">\n",
       "      <th></th>\n",
       "      <th>Unnamed: 0</th>\n",
       "      <th>website_url</th>\n",
       "      <th>cleaned_website_text</th>\n",
       "      <th>Category</th>\n",
       "      <th>clean_text_punc</th>\n",
       "      <th>clean_text_stop</th>\n",
       "      <th>clean_lower</th>\n",
       "      <th>clean_stem</th>\n",
       "    </tr>\n",
       "  </thead>\n",
       "  <tbody>\n",
       "    <tr>\n",
       "      <th>0</th>\n",
       "      <td>0</td>\n",
       "      <td>https://www.booking.com/index.html?aid=1743217</td>\n",
       "      <td>official site good hotel accommodation big sav...</td>\n",
       "      <td>Travel</td>\n",
       "      <td>official site good hotel accommodation big sav...</td>\n",
       "      <td>ffcl e g hel ccn bg vng hel enn wrlwe brwe hel...</td>\n",
       "      <td>ffcleghelccnbgvnghelennwrlwebrwehelrevewfngurn...</td>\n",
       "      <td>ffcleghelccnbgvnghelennwrlwebrwehelrevewfngurn...</td>\n",
       "    </tr>\n",
       "    <tr>\n",
       "      <th>1</th>\n",
       "      <td>1</td>\n",
       "      <td>https://travelsites.com/expedia/</td>\n",
       "      <td>expedia hotel book sites like use vacation wor...</td>\n",
       "      <td>Travel</td>\n",
       "      <td>expedia hotel book sites like use vacation wor...</td>\n",
       "      <td>expe hel bk e lke ue vcn wrk hr er lng   rewr ...</td>\n",
       "      <td>expehelbkelkeuevcnwrkhrerlngrewrllebreknewcexp...</td>\n",
       "      <td>expehelbkelkeuevcnwrkhrerlngrewrllebreknewcexp...</td>\n",
       "    </tr>\n",
       "    <tr>\n",
       "      <th>2</th>\n",
       "      <td>2</td>\n",
       "      <td>https://travelsites.com/tripadvisor/</td>\n",
       "      <td>tripadvisor hotel book sites like previously d...</td>\n",
       "      <td>Travel</td>\n",
       "      <td>tripadvisor hotel book sites like previously d...</td>\n",
       "      <td>rpvr hel bk e lke prevul el prennl reurn br re...</td>\n",
       "      <td>rpvrhelbkelkeprevulelprennlreurnbrrevewrecener...</td>\n",
       "      <td>rpvrhelbkelkeprevulelprennlreurnbrrevewrecener...</td>\n",
       "    </tr>\n",
       "    <tr>\n",
       "      <th>3</th>\n",
       "      <td>3</td>\n",
       "      <td>https://www.momondo.in/?ispredir=true</td>\n",
       "      <td>cheap flights search compare flights momondo f...</td>\n",
       "      <td>Travel</td>\n",
       "      <td>cheap flights search compare flights momondo f...</td>\n",
       "      <td>chep flgh erch cpre flgh n fn chep flgh n fn c...</td>\n",
       "      <td>chepflgherchcpreflghnfnchepflghnfncprefrerlner...</td>\n",
       "      <td>chepflgherchcpreflghnfnchepflghnfncprefrerlner...</td>\n",
       "    </tr>\n",
       "  </tbody>\n",
       "</table>\n",
       "</div>"
      ],
      "text/plain": [
       "   Unnamed: 0                                     website_url  \\\n",
       "0           0  https://www.booking.com/index.html?aid=1743217   \n",
       "1           1                https://travelsites.com/expedia/   \n",
       "2           2            https://travelsites.com/tripadvisor/   \n",
       "3           3           https://www.momondo.in/?ispredir=true   \n",
       "\n",
       "                                cleaned_website_text Category  \\\n",
       "0  official site good hotel accommodation big sav...   Travel   \n",
       "1  expedia hotel book sites like use vacation wor...   Travel   \n",
       "2  tripadvisor hotel book sites like previously d...   Travel   \n",
       "3  cheap flights search compare flights momondo f...   Travel   \n",
       "\n",
       "                                     clean_text_punc  \\\n",
       "0  official site good hotel accommodation big sav...   \n",
       "1  expedia hotel book sites like use vacation wor...   \n",
       "2  tripadvisor hotel book sites like previously d...   \n",
       "3  cheap flights search compare flights momondo f...   \n",
       "\n",
       "                                     clean_text_stop  \\\n",
       "0  ffcl e g hel ccn bg vng hel enn wrlwe brwe hel...   \n",
       "1  expe hel bk e lke ue vcn wrk hr er lng   rewr ...   \n",
       "2  rpvr hel bk e lke prevul el prennl reurn br re...   \n",
       "3  chep flgh erch cpre flgh n fn chep flgh n fn c...   \n",
       "\n",
       "                                         clean_lower  \\\n",
       "0  ffcleghelccnbgvnghelennwrlwebrwehelrevewfngurn...   \n",
       "1  expehelbkelkeuevcnwrkhrerlngrewrllebreknewcexp...   \n",
       "2  rpvrhelbkelkeprevulelprennlreurnbrrevewrecener...   \n",
       "3  chepflgherchcpreflghnfnchepflghnfncprefrerlner...   \n",
       "\n",
       "                                          clean_stem  \n",
       "0  ffcleghelccnbgvnghelennwrlwebrwehelrevewfngurn...  \n",
       "1  expehelbkelkeuevcnwrkhrerlngrewrllebreknewcexp...  \n",
       "2  rpvrhelbkelkeprevulelprennlreurnbrrevewrecener...  \n",
       "3  chepflgherchcpreflghnfnchepflghnfncprefrerlner...  "
      ]
     },
     "execution_count": 25,
     "metadata": {},
     "output_type": "execute_result"
    }
   ],
   "source": [
    "data.head(4)"
   ]
  },
  {
   "cell_type": "code",
   "execution_count": 26,
   "metadata": {},
   "outputs": [],
   "source": [
    "vect = TfidfVectorizer(max_features=5000,max_df = .95,min_df = 4,ngram_range=(1,2))"
   ]
  },
  {
   "cell_type": "code",
   "execution_count": 27,
   "metadata": {},
   "outputs": [
    {
     "data": {
      "text/plain": [
       "TfidfVectorizer(max_df=0.95, max_features=5000, min_df=4, ngram_range=(1, 2))"
      ]
     },
     "execution_count": 27,
     "metadata": {},
     "output_type": "execute_result"
    }
   ],
   "source": [
    "vect.fit(data[\"cleaned_website_text\"])"
   ]
  },
  {
   "cell_type": "code",
   "execution_count": 28,
   "metadata": {},
   "outputs": [],
   "source": [
    "sparse = vect.transform(data[\"cleaned_website_text\"])"
   ]
  },
  {
   "cell_type": "code",
   "execution_count": 29,
   "metadata": {},
   "outputs": [],
   "source": [
    "sparse_pd = sparse.toarray()"
   ]
  },
  {
   "cell_type": "code",
   "execution_count": 30,
   "metadata": {},
   "outputs": [],
   "source": [
    "final_data = pd.DataFrame(sparse_pd)"
   ]
  },
  {
   "cell_type": "code",
   "execution_count": 31,
   "metadata": {},
   "outputs": [
    {
     "data": {
      "text/plain": [
       "(1408, 5000)"
      ]
     },
     "execution_count": 31,
     "metadata": {},
     "output_type": "execute_result"
    }
   ],
   "source": [
    "final_data.shape"
   ]
  },
  {
   "cell_type": "code",
   "execution_count": 32,
   "metadata": {},
   "outputs": [],
   "source": [
    "from sklearn.model_selection import train_test_split"
   ]
  },
  {
   "cell_type": "code",
   "execution_count": 33,
   "metadata": {},
   "outputs": [],
   "source": [
    "train_x,test_x,train_y,test_y = train_test_split(final_data,data[\"Category\"],test_size = 0.2,random_state=1212)"
   ]
  },
  {
   "cell_type": "code",
   "execution_count": 34,
   "metadata": {},
   "outputs": [],
   "source": [
    "#Multinomial naive bayes\n",
    "from sklearn.naive_bayes import MultinomialNB"
   ]
  },
  {
   "cell_type": "code",
   "execution_count": 35,
   "metadata": {},
   "outputs": [],
   "source": [
    "mnb = MultinomialNB()"
   ]
  },
  {
   "cell_type": "code",
   "execution_count": 36,
   "metadata": {},
   "outputs": [
    {
     "data": {
      "text/plain": [
       "MultinomialNB()"
      ]
     },
     "execution_count": 36,
     "metadata": {},
     "output_type": "execute_result"
    }
   ],
   "source": [
    "mnb.fit(train_x,train_y)"
   ]
  },
  {
   "cell_type": "code",
   "execution_count": 37,
   "metadata": {},
   "outputs": [],
   "source": [
    "pred_mnb = mnb.predict(test_x)"
   ]
  },
  {
   "cell_type": "code",
   "execution_count": 38,
   "metadata": {},
   "outputs": [],
   "source": [
    "from sklearn.metrics import classification_report"
   ]
  },
  {
   "cell_type": "code",
   "execution_count": 39,
   "metadata": {},
   "outputs": [
    {
     "name": "stdout",
     "output_type": "stream",
     "text": [
      "                                 precision    recall  f1-score   support\n",
      "\n",
      "                          Adult       0.00      0.00      0.00         3\n",
      "             Business/Corporate       0.80      0.77      0.78        26\n",
      "       Computers and Technology       0.88      0.71      0.79        21\n",
      "                     E-Commerce       0.90      0.90      0.90        21\n",
      "                      Education       0.64      1.00      0.78        16\n",
      "                           Food       0.85      0.94      0.89        18\n",
      "                         Forums       0.00      0.00      0.00         5\n",
      "                          Games       1.00      1.00      1.00        15\n",
      "             Health and Fitness       0.95      0.86      0.90        22\n",
      "             Law and Government       0.94      0.94      0.94        17\n",
      "                           News       0.67      0.93      0.78        15\n",
      "                    Photography       1.00      0.95      0.98        21\n",
      "Social Networking and Messaging       0.82      0.60      0.69        15\n",
      "                         Sports       1.00      0.95      0.97        20\n",
      "             Streaming Services       0.84      1.00      0.91        21\n",
      "                         Travel       0.96      0.96      0.96        26\n",
      "\n",
      "                       accuracy                           0.87       282\n",
      "                      macro avg       0.77      0.78      0.77       282\n",
      "                   weighted avg       0.86      0.87      0.86       282\n",
      "\n"
     ]
    },
    {
     "name": "stderr",
     "output_type": "stream",
     "text": [
      "C:\\Users\\RAMAKRISHNAN\\anaconda3\\lib\\site-packages\\sklearn\\metrics\\_classification.py:1221: UndefinedMetricWarning: Precision and F-score are ill-defined and being set to 0.0 in labels with no predicted samples. Use `zero_division` parameter to control this behavior.\n",
      "  _warn_prf(average, modifier, msg_start, len(result))\n"
     ]
    }
   ],
   "source": [
    "print(classification_report(test_y,pred_mnb))"
   ]
  },
  {
   "cell_type": "code",
   "execution_count": 40,
   "metadata": {},
   "outputs": [],
   "source": [
    "#random forest\n",
    "from sklearn.ensemble import RandomForestClassifier"
   ]
  },
  {
   "cell_type": "code",
   "execution_count": 41,
   "metadata": {},
   "outputs": [],
   "source": [
    "forest = RandomForestClassifier()"
   ]
  },
  {
   "cell_type": "code",
   "execution_count": 103,
   "metadata": {},
   "outputs": [],
   "source": [
    "from sklearn.model_selection import GridSearchCV"
   ]
  },
  {
   "cell_type": "code",
   "execution_count": 104,
   "metadata": {},
   "outputs": [],
   "source": [
    "param_grid = {\"criterion\":[\"gini\",\"entropy\"],\"max_depth\":[8,10,12,14],\"n_estimators\":[50,75,100],\"max_features\":[2,3],\"min_samples_split\":[20,30,40]}"
   ]
  },
  {
   "cell_type": "code",
   "execution_count": 51,
   "metadata": {},
   "outputs": [],
   "source": [
    "gsv = GridSearchCV(estimator=forest,param_grid = param_grid,cv = 5,n_jobs = -1,verbose = 3)"
   ]
  },
  {
   "cell_type": "code",
   "execution_count": 52,
   "metadata": {},
   "outputs": [
    {
     "name": "stdout",
     "output_type": "stream",
     "text": [
      "Fitting 5 folds for each of 144 candidates, totalling 720 fits\n"
     ]
    },
    {
     "name": "stderr",
     "output_type": "stream",
     "text": [
      "[Parallel(n_jobs=-1)]: Using backend LokyBackend with 4 concurrent workers.\n",
      "[Parallel(n_jobs=-1)]: Done  24 tasks      | elapsed:    5.3s\n",
      "[Parallel(n_jobs=-1)]: Done 120 tasks      | elapsed:   20.4s\n",
      "[Parallel(n_jobs=-1)]: Done 280 tasks      | elapsed:   48.6s\n",
      "[Parallel(n_jobs=-1)]: Done 504 tasks      | elapsed:  1.5min\n",
      "[Parallel(n_jobs=-1)]: Done 720 out of 720 | elapsed:  2.2min finished\n"
     ]
    },
    {
     "data": {
      "text/plain": [
       "GridSearchCV(cv=5, estimator=RandomForestClassifier(), n_jobs=-1,\n",
       "             param_grid={'criterion': ['gini', 'entropy'],\n",
       "                         'max_depth': [8, 10, 12, 14], 'max_features': [2, 3],\n",
       "                         'min_samples_split': [20, 30, 40],\n",
       "                         'n_estimators': [50, 75, 100]},\n",
       "             verbose=3)"
      ]
     },
     "execution_count": 52,
     "metadata": {},
     "output_type": "execute_result"
    }
   ],
   "source": [
    "gsv.fit(train_x,train_y)"
   ]
  },
  {
   "cell_type": "code",
   "execution_count": 54,
   "metadata": {},
   "outputs": [
    {
     "data": {
      "text/plain": [
       "RandomForestClassifier(max_depth=14, max_features=3, min_samples_split=30)"
      ]
     },
     "execution_count": 54,
     "metadata": {},
     "output_type": "execute_result"
    }
   ],
   "source": [
    "gsv.best_estimator_"
   ]
  },
  {
   "cell_type": "code",
   "execution_count": 55,
   "metadata": {},
   "outputs": [
    {
     "data": {
      "text/plain": [
       "0.7602084562438545"
      ]
     },
     "execution_count": 55,
     "metadata": {},
     "output_type": "execute_result"
    }
   ],
   "source": [
    "gsv.best_score_"
   ]
  },
  {
   "cell_type": "code",
   "execution_count": 57,
   "metadata": {},
   "outputs": [],
   "source": [
    "forest_model = RandomForestClassifier(max_depth=14, max_features=3, min_samples_split=30)"
   ]
  },
  {
   "cell_type": "code",
   "execution_count": 58,
   "metadata": {},
   "outputs": [
    {
     "data": {
      "text/plain": [
       "RandomForestClassifier(max_depth=14, max_features=3, min_samples_split=30)"
      ]
     },
     "execution_count": 58,
     "metadata": {},
     "output_type": "execute_result"
    }
   ],
   "source": [
    "forest_model.fit(train_x,train_y)"
   ]
  },
  {
   "cell_type": "code",
   "execution_count": 59,
   "metadata": {},
   "outputs": [],
   "source": [
    "pred = forest_model.predict(test_x)"
   ]
  },
  {
   "cell_type": "code",
   "execution_count": 60,
   "metadata": {},
   "outputs": [
    {
     "name": "stdout",
     "output_type": "stream",
     "text": [
      "                                 precision    recall  f1-score   support\n",
      "\n",
      "                          Adult       0.00      0.00      0.00         3\n",
      "             Business/Corporate       0.88      0.58      0.70        26\n",
      "       Computers and Technology       0.75      0.14      0.24        21\n",
      "                     E-Commerce       0.76      0.90      0.83        21\n",
      "                      Education       0.33      0.94      0.48        16\n",
      "                           Food       0.76      0.89      0.82        18\n",
      "                         Forums       0.00      0.00      0.00         5\n",
      "                          Games       0.45      0.67      0.54        15\n",
      "             Health and Fitness       0.94      0.73      0.82        22\n",
      "             Law and Government       1.00      0.94      0.97        17\n",
      "                           News       0.64      0.93      0.76        15\n",
      "                    Photography       0.93      0.67      0.78        21\n",
      "Social Networking and Messaging       1.00      0.53      0.70        15\n",
      "                         Sports       0.95      0.95      0.95        20\n",
      "             Streaming Services       0.72      0.86      0.78        21\n",
      "                         Travel       0.92      0.85      0.88        26\n",
      "\n",
      "                       accuracy                           0.73       282\n",
      "                      macro avg       0.69      0.66      0.64       282\n",
      "                   weighted avg       0.78      0.73      0.72       282\n",
      "\n"
     ]
    },
    {
     "name": "stderr",
     "output_type": "stream",
     "text": [
      "C:\\Users\\RAMAKRISHNAN\\anaconda3\\lib\\site-packages\\sklearn\\metrics\\_classification.py:1221: UndefinedMetricWarning: Precision and F-score are ill-defined and being set to 0.0 in labels with no predicted samples. Use `zero_division` parameter to control this behavior.\n",
      "  _warn_prf(average, modifier, msg_start, len(result))\n"
     ]
    }
   ],
   "source": [
    "print(classification_report(test_y,pred))"
   ]
  },
  {
   "cell_type": "code",
   "execution_count": 61,
   "metadata": {},
   "outputs": [],
   "source": [
    "param_grid = {\"criterion\":[\"gini\",\"entropy\"],\"max_depth\":[14,16,18],\"n_estimators\":[50,75,100],\"max_features\":[2,3],\"min_samples_split\":[30]}"
   ]
  },
  {
   "cell_type": "code",
   "execution_count": 62,
   "metadata": {},
   "outputs": [],
   "source": [
    "sv = GridSearchCV(estimator=forest,param_grid = param_grid,cv = 5,n_jobs = -1,verbose = 3)"
   ]
  },
  {
   "cell_type": "code",
   "execution_count": 63,
   "metadata": {},
   "outputs": [
    {
     "name": "stdout",
     "output_type": "stream",
     "text": [
      "Fitting 5 folds for each of 36 candidates, totalling 180 fits\n"
     ]
    },
    {
     "name": "stderr",
     "output_type": "stream",
     "text": [
      "[Parallel(n_jobs=-1)]: Using backend LokyBackend with 4 concurrent workers.\n",
      "[Parallel(n_jobs=-1)]: Done  24 tasks      | elapsed:    5.2s\n",
      "[Parallel(n_jobs=-1)]: Done 120 tasks      | elapsed:   21.3s\n",
      "[Parallel(n_jobs=-1)]: Done 180 out of 180 | elapsed:   33.2s finished\n"
     ]
    },
    {
     "data": {
      "text/plain": [
       "GridSearchCV(cv=5, estimator=RandomForestClassifier(), n_jobs=-1,\n",
       "             param_grid={'criterion': ['gini', 'entropy'],\n",
       "                         'max_depth': [14, 16, 18], 'max_features': [2, 3],\n",
       "                         'min_samples_split': [30],\n",
       "                         'n_estimators': [50, 75, 100]},\n",
       "             verbose=3)"
      ]
     },
     "execution_count": 63,
     "metadata": {},
     "output_type": "execute_result"
    }
   ],
   "source": [
    "sv.fit(train_x,train_y)"
   ]
  },
  {
   "cell_type": "code",
   "execution_count": 64,
   "metadata": {},
   "outputs": [
    {
     "data": {
      "text/plain": [
       "RandomForestClassifier(max_depth=14, max_features=3, min_samples_split=30)"
      ]
     },
     "execution_count": 64,
     "metadata": {},
     "output_type": "execute_result"
    }
   ],
   "source": [
    "sv.best_estimator_"
   ]
  },
  {
   "cell_type": "code",
   "execution_count": 50,
   "metadata": {},
   "outputs": [],
   "source": [
    "#logistic regression\n",
    "from sklearn.linear_model import LogisticRegression"
   ]
  },
  {
   "cell_type": "code",
   "execution_count": 51,
   "metadata": {},
   "outputs": [],
   "source": [
    "lr = LogisticRegression()"
   ]
  },
  {
   "cell_type": "code",
   "execution_count": 52,
   "metadata": {},
   "outputs": [
    {
     "data": {
      "text/plain": [
       "LogisticRegression()"
      ]
     },
     "execution_count": 52,
     "metadata": {},
     "output_type": "execute_result"
    }
   ],
   "source": [
    "lr.fit(train_x,train_y)"
   ]
  },
  {
   "cell_type": "code",
   "execution_count": 53,
   "metadata": {},
   "outputs": [],
   "source": [
    "y_pred = lr.predict(test_x)"
   ]
  },
  {
   "cell_type": "code",
   "execution_count": 54,
   "metadata": {},
   "outputs": [
    {
     "name": "stdout",
     "output_type": "stream",
     "text": [
      "                                 precision    recall  f1-score   support\n",
      "\n",
      "                          Adult       1.00      0.33      0.50         3\n",
      "             Business/Corporate       0.77      0.77      0.77        26\n",
      "       Computers and Technology       0.71      0.71      0.71        21\n",
      "                     E-Commerce       0.95      0.95      0.95        21\n",
      "                      Education       0.64      1.00      0.78        16\n",
      "                           Food       0.94      0.89      0.91        18\n",
      "                         Forums       0.00      0.00      0.00         5\n",
      "                          Games       1.00      1.00      1.00        15\n",
      "             Health and Fitness       0.91      0.91      0.91        22\n",
      "             Law and Government       0.94      0.88      0.91        17\n",
      "                           News       0.74      0.93      0.82        15\n",
      "                    Photography       0.91      0.95      0.93        21\n",
      "Social Networking and Messaging       1.00      0.73      0.85        15\n",
      "                         Sports       1.00      0.95      0.97        20\n",
      "             Streaming Services       1.00      1.00      1.00        21\n",
      "                         Travel       0.96      0.96      0.96        26\n",
      "\n",
      "                       accuracy                           0.88       282\n",
      "                      macro avg       0.84      0.81      0.81       282\n",
      "                   weighted avg       0.88      0.88      0.87       282\n",
      "\n"
     ]
    },
    {
     "name": "stderr",
     "output_type": "stream",
     "text": [
      "C:\\Users\\RAMAKRISHNAN\\anaconda3\\lib\\site-packages\\sklearn\\metrics\\_classification.py:1221: UndefinedMetricWarning: Precision and F-score are ill-defined and being set to 0.0 in labels with no predicted samples. Use `zero_division` parameter to control this behavior.\n",
      "  _warn_prf(average, modifier, msg_start, len(result))\n"
     ]
    }
   ],
   "source": [
    "print(classification_report(test_y,y_pred))"
   ]
  },
  {
   "cell_type": "code",
   "execution_count": 57,
   "metadata": {},
   "outputs": [],
   "source": [
    "from sklearn.ensemble import AdaBoostClassifier"
   ]
  },
  {
   "cell_type": "code",
   "execution_count": 62,
   "metadata": {},
   "outputs": [],
   "source": [
    "abc = AdaBoostClassifier(base_estimator=lr , n_estimators=10)"
   ]
  },
  {
   "cell_type": "code",
   "execution_count": 63,
   "metadata": {},
   "outputs": [
    {
     "data": {
      "text/plain": [
       "AdaBoostClassifier(base_estimator=LogisticRegression(), n_estimators=10)"
      ]
     },
     "execution_count": 63,
     "metadata": {},
     "output_type": "execute_result"
    }
   ],
   "source": [
    "abc.fit(train_x,train_y)"
   ]
  },
  {
   "cell_type": "code",
   "execution_count": 64,
   "metadata": {},
   "outputs": [],
   "source": [
    "abc_pred = abc.predict(test_x)"
   ]
  },
  {
   "cell_type": "code",
   "execution_count": 65,
   "metadata": {},
   "outputs": [
    {
     "name": "stdout",
     "output_type": "stream",
     "text": [
      "                                 precision    recall  f1-score   support\n",
      "\n",
      "                          Adult       0.00      0.00      0.00         3\n",
      "             Business/Corporate       0.00      0.00      0.00        26\n",
      "       Computers and Technology       0.00      0.00      0.00        21\n",
      "                     E-Commerce       0.00      0.00      0.00        21\n",
      "                      Education       0.06      1.00      0.11        16\n",
      "                           Food       0.00      0.00      0.00        18\n",
      "                         Forums       0.00      0.00      0.00         5\n",
      "                          Games       0.00      0.00      0.00        15\n",
      "             Health and Fitness       0.00      0.00      0.00        22\n",
      "             Law and Government       0.00      0.00      0.00        17\n",
      "                           News       0.00      0.00      0.00        15\n",
      "                    Photography       0.00      0.00      0.00        21\n",
      "Social Networking and Messaging       0.00      0.00      0.00        15\n",
      "                         Sports       0.00      0.00      0.00        20\n",
      "             Streaming Services       0.00      0.00      0.00        21\n",
      "                         Travel       0.00      0.00      0.00        26\n",
      "\n",
      "                       accuracy                           0.06       282\n",
      "                      macro avg       0.00      0.06      0.01       282\n",
      "                   weighted avg       0.00      0.06      0.01       282\n",
      "\n"
     ]
    },
    {
     "name": "stderr",
     "output_type": "stream",
     "text": [
      "C:\\Users\\RAMAKRISHNAN\\anaconda3\\lib\\site-packages\\sklearn\\metrics\\_classification.py:1221: UndefinedMetricWarning: Precision and F-score are ill-defined and being set to 0.0 in labels with no predicted samples. Use `zero_division` parameter to control this behavior.\n",
      "  _warn_prf(average, modifier, msg_start, len(result))\n"
     ]
    }
   ],
   "source": [
    "print(classification_report(test_y,abc_pred))"
   ]
  },
  {
   "cell_type": "code",
   "execution_count": 34,
   "metadata": {},
   "outputs": [],
   "source": [
    "#support vectormachines\n",
    "from sklearn.svm import SVC"
   ]
  },
  {
   "cell_type": "code",
   "execution_count": 35,
   "metadata": {},
   "outputs": [],
   "source": [
    "model = SVC()"
   ]
  },
  {
   "cell_type": "code",
   "execution_count": 36,
   "metadata": {},
   "outputs": [],
   "source": [
    "param_grid = {\"kernel\":[\"sigmoid\",\"linear\",\"rbf\"],\"C\":[0.01,0.1,1,10]}"
   ]
  },
  {
   "cell_type": "code",
   "execution_count": 39,
   "metadata": {},
   "outputs": [],
   "source": [
    "gsv= GridSearchCV(estimator = model,param_grid = param_grid,cv = 5,verbose=3,n_jobs = -1)"
   ]
  },
  {
   "cell_type": "code",
   "execution_count": 40,
   "metadata": {},
   "outputs": [
    {
     "name": "stdout",
     "output_type": "stream",
     "text": [
      "Fitting 5 folds for each of 12 candidates, totalling 60 fits\n"
     ]
    },
    {
     "name": "stderr",
     "output_type": "stream",
     "text": [
      "[Parallel(n_jobs=-1)]: Using backend LokyBackend with 4 concurrent workers.\n",
      "[Parallel(n_jobs=-1)]: Done  24 tasks      | elapsed:  2.5min\n",
      "[Parallel(n_jobs=-1)]: Done  60 out of  60 | elapsed:  6.2min finished\n"
     ]
    },
    {
     "data": {
      "text/plain": [
       "GridSearchCV(cv=5, estimator=SVC(), n_jobs=-1,\n",
       "             param_grid={'C': [0.01, 0.1, 1, 10],\n",
       "                         'kernel': ['sigmoid', 'linear', 'rbf']},\n",
       "             verbose=3)"
      ]
     },
     "execution_count": 40,
     "metadata": {},
     "output_type": "execute_result"
    }
   ],
   "source": [
    "gsv.fit(train_x,train_y)"
   ]
  },
  {
   "cell_type": "code",
   "execution_count": 41,
   "metadata": {},
   "outputs": [
    {
     "data": {
      "text/plain": [
       "SVC(C=1, kernel='linear')"
      ]
     },
     "execution_count": 41,
     "metadata": {},
     "output_type": "execute_result"
    }
   ],
   "source": [
    "gsv.best_estimator_"
   ]
  },
  {
   "cell_type": "code",
   "execution_count": 42,
   "metadata": {},
   "outputs": [
    {
     "data": {
      "text/plain": [
       "0.91294395280236"
      ]
     },
     "execution_count": 42,
     "metadata": {},
     "output_type": "execute_result"
    }
   ],
   "source": [
    "gsv.best_score_"
   ]
  },
  {
   "cell_type": "code",
   "execution_count": 43,
   "metadata": {},
   "outputs": [],
   "source": [
    "sv_model = SVC(C=1, kernel='linear')"
   ]
  },
  {
   "cell_type": "code",
   "execution_count": 45,
   "metadata": {},
   "outputs": [
    {
     "data": {
      "text/plain": [
       "SVC(C=1, kernel='linear')"
      ]
     },
     "execution_count": 45,
     "metadata": {},
     "output_type": "execute_result"
    }
   ],
   "source": [
    "sv_model.fit(train_x,train_y)"
   ]
  },
  {
   "cell_type": "code",
   "execution_count": 46,
   "metadata": {},
   "outputs": [],
   "source": [
    "pred_sv = sv_model.predict(test_x)"
   ]
  },
  {
   "cell_type": "code",
   "execution_count": 47,
   "metadata": {},
   "outputs": [
    {
     "name": "stdout",
     "output_type": "stream",
     "text": [
      "                                 precision    recall  f1-score   support\n",
      "\n",
      "                          Adult       1.00      1.00      1.00         3\n",
      "             Business/Corporate       0.72      0.81      0.76        26\n",
      "       Computers and Technology       0.73      0.76      0.74        21\n",
      "                     E-Commerce       1.00      0.90      0.95        21\n",
      "                      Education       0.80      1.00      0.89        16\n",
      "                           Food       0.95      1.00      0.97        18\n",
      "                         Forums       0.75      0.60      0.67         5\n",
      "                          Games       1.00      1.00      1.00        15\n",
      "             Health and Fitness       0.95      0.91      0.93        22\n",
      "             Law and Government       0.94      0.94      0.94        17\n",
      "                           News       0.81      0.87      0.84        15\n",
      "                    Photography       1.00      0.95      0.98        21\n",
      "Social Networking and Messaging       0.92      0.73      0.81        15\n",
      "                         Sports       1.00      0.95      0.97        20\n",
      "             Streaming Services       1.00      1.00      1.00        21\n",
      "                         Travel       1.00      0.96      0.98        26\n",
      "\n",
      "                       accuracy                           0.91       282\n",
      "                      macro avg       0.91      0.90      0.90       282\n",
      "                   weighted avg       0.91      0.91      0.91       282\n",
      "\n"
     ]
    }
   ],
   "source": [
    "print(classification_report(test_y,pred_sv))"
   ]
  },
  {
   "cell_type": "code",
   "execution_count": 48,
   "metadata": {},
   "outputs": [],
   "source": [
    "from sklearn.metrics import confusion_matrix"
   ]
  },
  {
   "cell_type": "code",
   "execution_count": 49,
   "metadata": {},
   "outputs": [
    {
     "data": {
      "text/plain": [
       "array([[ 3,  0,  0,  0,  0,  0,  0,  0,  0,  0,  0,  0,  0,  0,  0,  0],\n",
       "       [ 0, 21,  3,  0,  1,  0,  0,  0,  0,  0,  1,  0,  0,  0,  0,  0],\n",
       "       [ 0,  4, 16,  0,  1,  0,  0,  0,  0,  0,  0,  0,  0,  0,  0,  0],\n",
       "       [ 0,  2,  0, 19,  0,  0,  0,  0,  0,  0,  0,  0,  0,  0,  0,  0],\n",
       "       [ 0,  0,  0,  0, 16,  0,  0,  0,  0,  0,  0,  0,  0,  0,  0,  0],\n",
       "       [ 0,  0,  0,  0,  0, 18,  0,  0,  0,  0,  0,  0,  0,  0,  0,  0],\n",
       "       [ 0,  0,  1,  0,  0,  0,  3,  0,  0,  0,  1,  0,  0,  0,  0,  0],\n",
       "       [ 0,  0,  0,  0,  0,  0,  0, 15,  0,  0,  0,  0,  0,  0,  0,  0],\n",
       "       [ 0,  0,  0,  0,  1,  0,  0,  0, 20,  1,  0,  0,  0,  0,  0,  0],\n",
       "       [ 0,  0,  0,  0,  1,  0,  0,  0,  0, 16,  0,  0,  0,  0,  0,  0],\n",
       "       [ 0,  0,  1,  0,  0,  0,  0,  0,  0,  0, 13,  0,  1,  0,  0,  0],\n",
       "       [ 0,  1,  0,  0,  0,  0,  0,  0,  0,  0,  0, 20,  0,  0,  0,  0],\n",
       "       [ 0,  0,  1,  0,  0,  1,  1,  0,  0,  0,  1,  0, 11,  0,  0,  0],\n",
       "       [ 0,  1,  0,  0,  0,  0,  0,  0,  0,  0,  0,  0,  0, 19,  0,  0],\n",
       "       [ 0,  0,  0,  0,  0,  0,  0,  0,  0,  0,  0,  0,  0,  0, 21,  0],\n",
       "       [ 0,  0,  0,  0,  0,  0,  0,  0,  1,  0,  0,  0,  0,  0,  0, 25]],\n",
       "      dtype=int64)"
      ]
     },
     "execution_count": 49,
     "metadata": {},
     "output_type": "execute_result"
    }
   ],
   "source": [
    "confusion_matrix(test_y,pred_sv)"
   ]
  },
  {
   "cell_type": "code",
   "execution_count": 70,
   "metadata": {},
   "outputs": [],
   "source": [
    "#decision tree\n",
    "from sklearn.tree import DecisionTreeClassifier"
   ]
  },
  {
   "cell_type": "code",
   "execution_count": 71,
   "metadata": {},
   "outputs": [],
   "source": [
    "tree_model = DecisionTreeClassifier()"
   ]
  },
  {
   "cell_type": "code",
   "execution_count": 72,
   "metadata": {},
   "outputs": [],
   "source": [
    "param_grid = {\"criterion\":[\"gini\",\"entropy\"],\"max_depth\":[8,10,12,14],\"min_samples_split\":[20,30,40],\"min_samples_leaf\":[30,40,50]}"
   ]
  },
  {
   "cell_type": "code",
   "execution_count": 74,
   "metadata": {},
   "outputs": [],
   "source": [
    "GSV = GridSearchCV(estimator = tree_model,param_grid = param_grid,cv=5,verbose = 3,n_jobs = -1)\n"
   ]
  },
  {
   "cell_type": "code",
   "execution_count": 75,
   "metadata": {},
   "outputs": [
    {
     "name": "stdout",
     "output_type": "stream",
     "text": [
      "Fitting 5 folds for each of 72 candidates, totalling 360 fits\n"
     ]
    },
    {
     "name": "stderr",
     "output_type": "stream",
     "text": [
      "[Parallel(n_jobs=-1)]: Using backend LokyBackend with 4 concurrent workers.\n",
      "[Parallel(n_jobs=-1)]: Done  24 tasks      | elapsed:   12.2s\n",
      "[Parallel(n_jobs=-1)]: Done 120 tasks      | elapsed:   56.6s\n",
      "[Parallel(n_jobs=-1)]: Done 280 tasks      | elapsed:  2.2min\n",
      "[Parallel(n_jobs=-1)]: Done 360 out of 360 | elapsed:  2.8min finished\n"
     ]
    },
    {
     "data": {
      "text/plain": [
       "GridSearchCV(cv=5, estimator=DecisionTreeClassifier(), n_jobs=-1,\n",
       "             param_grid={'criterion': ['gini', 'entropy'],\n",
       "                         'max_depth': [8, 10, 12, 14],\n",
       "                         'min_samples_leaf': [30, 40, 50],\n",
       "                         'min_samples_split': [20, 30, 40]},\n",
       "             verbose=3)"
      ]
     },
     "execution_count": 75,
     "metadata": {},
     "output_type": "execute_result"
    }
   ],
   "source": [
    "GSV.fit(train_x,train_y)"
   ]
  },
  {
   "cell_type": "code",
   "execution_count": 76,
   "metadata": {},
   "outputs": [
    {
     "data": {
      "text/plain": [
       "DecisionTreeClassifier(max_depth=14, min_samples_leaf=30, min_samples_split=20)"
      ]
     },
     "execution_count": 76,
     "metadata": {},
     "output_type": "execute_result"
    }
   ],
   "source": [
    "GSV.best_estimator_"
   ]
  },
  {
   "cell_type": "code",
   "execution_count": 77,
   "metadata": {},
   "outputs": [
    {
     "data": {
      "text/plain": [
       "0.5612782694198624"
      ]
     },
     "execution_count": 77,
     "metadata": {},
     "output_type": "execute_result"
    }
   ],
   "source": [
    "GSV.best_score_"
   ]
  },
  {
   "cell_type": "code",
   "execution_count": 78,
   "metadata": {},
   "outputs": [],
   "source": [
    "tree = DecisionTreeClassifier(max_depth=14, min_samples_leaf=30, min_samples_split=20)\n"
   ]
  },
  {
   "cell_type": "code",
   "execution_count": 79,
   "metadata": {},
   "outputs": [
    {
     "data": {
      "text/plain": [
       "DecisionTreeClassifier(max_depth=14, min_samples_leaf=30, min_samples_split=20)"
      ]
     },
     "execution_count": 79,
     "metadata": {},
     "output_type": "execute_result"
    }
   ],
   "source": [
    "tree.fit(train_x,train_y)"
   ]
  },
  {
   "cell_type": "code",
   "execution_count": 84,
   "metadata": {},
   "outputs": [],
   "source": [
    "pred_tree = tree.predict(test_x)"
   ]
  },
  {
   "cell_type": "code",
   "execution_count": null,
   "metadata": {},
   "outputs": [],
   "source": []
  },
  {
   "cell_type": "code",
   "execution_count": 85,
   "metadata": {},
   "outputs": [
    {
     "name": "stdout",
     "output_type": "stream",
     "text": [
      "                                 precision    recall  f1-score   support\n",
      "\n",
      "                          Adult       0.00      0.00      0.00         3\n",
      "             Business/Corporate       0.20      0.62      0.30        26\n",
      "       Computers and Technology       0.57      0.19      0.29        21\n",
      "                     E-Commerce       0.71      0.57      0.63        21\n",
      "                      Education       0.67      0.38      0.48        16\n",
      "                           Food       0.82      0.50      0.62        18\n",
      "                         Forums       0.00      0.00      0.00         5\n",
      "                          Games       0.73      0.73      0.73        15\n",
      "             Health and Fitness       0.73      0.50      0.59        22\n",
      "             Law and Government       0.56      0.82      0.67        17\n",
      "                           News       0.79      0.73      0.76        15\n",
      "                    Photography       1.00      0.81      0.89        21\n",
      "Social Networking and Messaging       1.00      0.67      0.80        15\n",
      "                         Sports       0.78      0.70      0.74        20\n",
      "             Streaming Services       0.87      0.62      0.72        21\n",
      "                         Travel       0.68      0.73      0.70        26\n",
      "\n",
      "                       accuracy                           0.59       282\n",
      "                      macro avg       0.63      0.54      0.56       282\n",
      "                   weighted avg       0.69      0.59      0.61       282\n",
      "\n"
     ]
    },
    {
     "name": "stderr",
     "output_type": "stream",
     "text": [
      "C:\\Users\\RAMAKRISHNAN\\anaconda3\\lib\\site-packages\\sklearn\\metrics\\_classification.py:1221: UndefinedMetricWarning: Precision and F-score are ill-defined and being set to 0.0 in labels with no predicted samples. Use `zero_division` parameter to control this behavior.\n",
      "  _warn_prf(average, modifier, msg_start, len(result))\n"
     ]
    }
   ],
   "source": [
    "print(classification_report(test_y,pred_tree))"
   ]
  },
  {
   "cell_type": "code",
   "execution_count": 86,
   "metadata": {},
   "outputs": [],
   "source": [
    "#k neighbors\n",
    "from sklearn.neighbors import KNeighborsClassifier"
   ]
  },
  {
   "cell_type": "code",
   "execution_count": 113,
   "metadata": {},
   "outputs": [],
   "source": [
    "kn_model = KNeighborsClassifier(n_neighbors=25)"
   ]
  },
  {
   "cell_type": "code",
   "execution_count": 114,
   "metadata": {},
   "outputs": [
    {
     "data": {
      "text/plain": [
       "KNeighborsClassifier(n_neighbors=25)"
      ]
     },
     "execution_count": 114,
     "metadata": {},
     "output_type": "execute_result"
    }
   ],
   "source": [
    "kn_model.fit(train_x,train_y)"
   ]
  },
  {
   "cell_type": "code",
   "execution_count": 115,
   "metadata": {},
   "outputs": [],
   "source": [
    "pred_kn = kn_model.predict(test_x)"
   ]
  },
  {
   "cell_type": "code",
   "execution_count": 116,
   "metadata": {},
   "outputs": [
    {
     "name": "stdout",
     "output_type": "stream",
     "text": [
      "                                 precision    recall  f1-score   support\n",
      "\n",
      "                          Adult       1.00      0.33      0.50         3\n",
      "             Business/Corporate       0.95      0.81      0.88        26\n",
      "       Computers and Technology       0.75      0.71      0.73        21\n",
      "                     E-Commerce       0.91      0.95      0.93        21\n",
      "                      Education       0.76      1.00      0.86        16\n",
      "                           Food       0.89      0.94      0.92        18\n",
      "                         Forums       1.00      0.20      0.33         5\n",
      "                          Games       1.00      0.87      0.93        15\n",
      "             Health and Fitness       0.95      0.82      0.88        22\n",
      "             Law and Government       0.94      0.88      0.91        17\n",
      "                           News       0.70      0.93      0.80        15\n",
      "                    Photography       0.80      0.95      0.87        21\n",
      "Social Networking and Messaging       0.85      0.73      0.79        15\n",
      "                         Sports       0.95      0.95      0.95        20\n",
      "             Streaming Services       0.84      1.00      0.91        21\n",
      "                         Travel       0.96      0.92      0.94        26\n",
      "\n",
      "                       accuracy                           0.87       282\n",
      "                      macro avg       0.89      0.81      0.82       282\n",
      "                   weighted avg       0.88      0.87      0.87       282\n",
      "\n"
     ]
    }
   ],
   "source": [
    "print(classification_report(test_y,pred_kn))"
   ]
  },
  {
   "cell_type": "code",
   "execution_count": 99,
   "metadata": {},
   "outputs": [],
   "source": [
    "#voting classifier\n",
    "from sklearn.ensemble import VotingClassifier"
   ]
  },
  {
   "cell_type": "code",
   "execution_count": 105,
   "metadata": {},
   "outputs": [],
   "source": [
    "vc = VotingClassifier(estimators = [(\"lr\",lr),(\"tr\",tree_model),(\"fr\",forest),(\"kn\",kn_model)])"
   ]
  },
  {
   "cell_type": "code",
   "execution_count": 106,
   "metadata": {},
   "outputs": [
    {
     "data": {
      "text/plain": [
       "VotingClassifier(estimators=[('lr', LogisticRegression()),\n",
       "                             ('tr', DecisionTreeClassifier()),\n",
       "                             ('fr', RandomForestClassifier()),\n",
       "                             ('kn', KNeighborsClassifier(n_neighbors=25))])"
      ]
     },
     "execution_count": 106,
     "metadata": {},
     "output_type": "execute_result"
    }
   ],
   "source": [
    "vc.fit(train_x,train_y)"
   ]
  },
  {
   "cell_type": "code",
   "execution_count": 107,
   "metadata": {},
   "outputs": [],
   "source": [
    "pred_vc = vc.predict(test_x)"
   ]
  },
  {
   "cell_type": "code",
   "execution_count": 108,
   "metadata": {},
   "outputs": [
    {
     "name": "stdout",
     "output_type": "stream",
     "text": [
      "                                 precision    recall  f1-score   support\n",
      "\n",
      "                          Adult       1.00      0.67      0.80         3\n",
      "             Business/Corporate       0.81      0.81      0.81        26\n",
      "       Computers and Technology       0.79      0.71      0.75        21\n",
      "                     E-Commerce       0.95      1.00      0.98        21\n",
      "                      Education       0.73      1.00      0.84        16\n",
      "                           Food       0.83      0.83      0.83        18\n",
      "                         Forums       1.00      0.20      0.33         5\n",
      "                          Games       0.93      0.93      0.93        15\n",
      "             Health and Fitness       0.95      0.86      0.90        22\n",
      "             Law and Government       0.88      0.88      0.88        17\n",
      "                           News       0.75      0.80      0.77        15\n",
      "                    Photography       0.77      0.95      0.85        21\n",
      "Social Networking and Messaging       1.00      0.73      0.85        15\n",
      "                         Sports       1.00      0.95      0.97        20\n",
      "             Streaming Services       0.91      1.00      0.95        21\n",
      "                         Travel       0.96      0.92      0.94        26\n",
      "\n",
      "                       accuracy                           0.87       282\n",
      "                      macro avg       0.89      0.83      0.84       282\n",
      "                   weighted avg       0.88      0.87      0.87       282\n",
      "\n"
     ]
    }
   ],
   "source": [
    "print(classification_report(test_y,pred_vc))"
   ]
  },
  {
   "cell_type": "code",
   "execution_count": 42,
   "metadata": {},
   "outputs": [
    {
     "name": "stdout",
     "output_type": "stream",
     "text": [
      "Requirement already satisfied: gensim in c:\\users\\ramakrishnan\\anaconda3\\lib\\site-packages (4.0.1)\n",
      "Requirement already satisfied: scipy>=0.18.1 in c:\\users\\ramakrishnan\\anaconda3\\lib\\site-packages (from gensim) (1.5.2)\n",
      "Requirement already satisfied: numpy>=1.11.3 in c:\\users\\ramakrishnan\\anaconda3\\lib\\site-packages (from gensim) (1.19.2)\n",
      "Requirement already satisfied: smart-open>=1.8.1 in c:\\users\\ramakrishnan\\anaconda3\\lib\\site-packages (from gensim) (5.0.0)\n",
      "Requirement already satisfied: Cython==0.29.21 in c:\\users\\ramakrishnan\\anaconda3\\lib\\site-packages (from gensim) (0.29.21)\n"
     ]
    }
   ],
   "source": [
    "!pip install gensim"
   ]
  },
  {
   "cell_type": "code",
   "execution_count": 43,
   "metadata": {},
   "outputs": [
    {
     "name": "stderr",
     "output_type": "stream",
     "text": [
      "C:\\Users\\RAMAKRISHNAN\\anaconda3\\lib\\site-packages\\gensim\\similarities\\__init__.py:15: UserWarning: The gensim.similarities.levenshtein submodule is disabled, because the optional Levenshtein package <https://pypi.org/project/python-Levenshtein/> is unavailable. Install Levenhstein (e.g. `pip install python-Levenshtein`) to suppress this warning.\n",
      "  warnings.warn(msg)\n"
     ]
    }
   ],
   "source": [
    "#word embedding\n",
    "from gensim.models import Word2Vec"
   ]
  },
  {
   "cell_type": "code",
   "execution_count": 44,
   "metadata": {},
   "outputs": [],
   "source": [
    "data[\"cleaned_website_text_token\"] = data[\"cleaned_website_text\"].apply(lambda x :x.split(\" \"))"
   ]
  },
  {
   "cell_type": "code",
   "execution_count": 45,
   "metadata": {},
   "outputs": [
    {
     "data": {
      "text/plain": [
       "0    [official, site, good, hotel, accommodation, b...\n",
       "1    [expedia, hotel, book, sites, like, use, vacat...\n",
       "2    [tripadvisor, hotel, book, sites, like, previo...\n",
       "3    [cheap, flights, search, compare, flights, mom...\n",
       "4    [bot, create, free, account, create, free, acc...\n",
       "Name: cleaned_website_text_token, dtype: object"
      ]
     },
     "execution_count": 45,
     "metadata": {},
     "output_type": "execute_result"
    }
   ],
   "source": [
    "data[\"cleaned_website_text_token\"].head()"
   ]
  },
  {
   "cell_type": "code",
   "execution_count": 46,
   "metadata": {},
   "outputs": [],
   "source": [
    "model = Word2Vec(sentences=data[\"cleaned_website_text_token\"],vector_size=128,window=5,workers=4,min_count=1)"
   ]
  },
  {
   "cell_type": "code",
   "execution_count": 47,
   "metadata": {},
   "outputs": [
    {
     "data": {
      "text/plain": [
       "array([-3.04118007e-01,  1.63060039e-01,  8.37332845e-01, -8.13773394e-01,\n",
       "       -9.79733393e-02, -1.00029483e-01, -1.27537143e+00, -1.42973363e+00,\n",
       "        7.57107258e-01, -1.06098664e+00,  1.33671495e-03, -2.98390001e-01,\n",
       "       -4.01931554e-02, -2.57482052e+00,  6.50591910e-01,  1.92707396e+00,\n",
       "       -8.73846635e-02, -4.07497793e-01,  1.32436633e-01, -6.69664621e-01,\n",
       "        9.43028510e-01,  2.22226167e+00, -2.32302099e-01, -8.10471475e-01,\n",
       "       -6.67875469e-01,  1.37421000e+00,  1.52101979e-01,  5.00965774e-01,\n",
       "        1.82959437e-01, -7.26848722e-01, -9.32874620e-01, -3.34731638e-01,\n",
       "       -7.28319705e-01, -7.48968244e-01, -8.02748322e-01,  1.21159446e+00,\n",
       "        1.74924469e+00,  6.43678069e-01,  1.47212374e+00, -5.30848622e-01,\n",
       "        5.21466970e-01,  4.67441529e-01,  1.10803950e+00, -5.89455843e-01,\n",
       "        1.38130963e+00,  4.37885314e-01,  6.96604133e-01, -1.53482151e+00,\n",
       "       -1.30501658e-01, -1.59816909e+00, -3.15339267e-01, -1.15160823e+00,\n",
       "       -6.88417077e-01,  9.17203903e-01, -7.75328815e-01, -2.99645942e-02,\n",
       "        1.03609157e+00, -8.95657957e-01, -7.72144020e-01, -1.17283344e-01,\n",
       "        5.63651562e-01, -6.43305659e-01, -7.90386140e-01,  1.21739253e-01,\n",
       "        4.92152154e-01, -5.11581361e-01,  1.35208678e+00, -3.55439484e-02,\n",
       "       -7.70310640e-01, -9.92697418e-01,  7.41032004e-01, -1.52295530e+00,\n",
       "       -2.21850467e+00, -1.51560992e-01,  7.41978824e-01, -1.77094057e-01,\n",
       "        3.24737996e-01,  4.94690150e-01, -1.21396985e-02,  8.09499085e-01,\n",
       "       -1.18939936e-01, -4.42237139e-01,  1.64815765e-02,  2.28900766e+00,\n",
       "        3.50753158e-01,  2.34729552e+00,  2.32669771e-01,  8.02576423e-01,\n",
       "        1.22153461e+00, -3.10184509e-01, -1.54071021e+00, -1.68343377e+00,\n",
       "       -2.00846829e-02,  7.53199637e-01,  2.05887890e+00,  2.49658436e-01,\n",
       "        7.10089803e-01,  5.24207950e-01, -2.24280548e+00, -4.34391648e-01,\n",
       "       -6.03392482e-01,  4.12114412e-01,  1.83302350e-02,  1.63397744e-01,\n",
       "        1.19539261e+00, -9.36725438e-01,  7.30849624e-01,  5.17049506e-02,\n",
       "        2.56652892e-01, -3.78457576e-01,  9.56548810e-01,  6.42801076e-02,\n",
       "        9.89105582e-01,  1.16763902e+00, -2.20263794e-01, -2.81202137e-01,\n",
       "       -1.74541682e-01,  7.83629775e-01,  2.42444530e-01, -1.07609117e+00,\n",
       "       -1.12199712e+00,  1.65701568e-01, -4.01681483e-01, -3.76797646e-01,\n",
       "       -1.30544871e-01, -1.55126524e+00, -3.56582969e-01, -1.31135368e+00],\n",
       "      dtype=float32)"
      ]
     },
     "execution_count": 47,
     "metadata": {},
     "output_type": "execute_result"
    }
   ],
   "source": [
    "model.wv.get_vector(\"site\")"
   ]
  },
  {
   "cell_type": "code",
   "execution_count": 48,
   "metadata": {},
   "outputs": [],
   "source": [
    "def get_average_embeddings(sentence):\n",
    "    split_sent = sentence.split(\" \")\n",
    "    sent_emb= []\n",
    "    for word in split_sent:\n",
    "        if word in model.wv.key_to_index.keys():\n",
    "            sent_emb.append(model.wv.get_vector(word))\n",
    "        if not sent_emb:\n",
    "            return np.zeros(model.vector_size)\n",
    "        else:\n",
    "            return np.mean(sent_emb,axis = 0)"
   ]
  },
  {
   "cell_type": "code",
   "execution_count": 49,
   "metadata": {},
   "outputs": [],
   "source": [
    "import numpy as np"
   ]
  },
  {
   "cell_type": "code",
   "execution_count": 50,
   "metadata": {},
   "outputs": [],
   "source": [
    "sent_embd = data[\"cleaned_website_text\"].apply(lambda x:get_average_embeddings(x))"
   ]
  },
  {
   "cell_type": "code",
   "execution_count": 51,
   "metadata": {},
   "outputs": [],
   "source": [
    "y = data[\"Category\"]"
   ]
  },
  {
   "cell_type": "code",
   "execution_count": 52,
   "metadata": {},
   "outputs": [],
   "source": [
    "train_x,test_x,train_y,test_y = train_test_split(sent_embd,data[\"Category\"],test_size = 0.2,random_state=1212)"
   ]
  },
  {
   "cell_type": "code",
   "execution_count": 53,
   "metadata": {},
   "outputs": [
    {
     "data": {
      "text/plain": [
       "687    [-0.3975729, -0.9904502, 1.037165, -0.8911775,...\n",
       "11     [0.14605382, -0.04849095, 0.11460381, -0.04996...\n",
       "674    [0.20212822, 0.004021212, 0.2772715, -0.232204...\n",
       "389    [-0.9332099, -0.9101695, 1.2935176, 0.10759538...\n",
       "501    [-0.0068313065, 0.0849878, 0.049861528, -0.641...\n",
       "Name: cleaned_website_text, dtype: object"
      ]
     },
     "execution_count": 53,
     "metadata": {},
     "output_type": "execute_result"
    }
   ],
   "source": [
    "train_x.head()"
   ]
  },
  {
   "cell_type": "code",
   "execution_count": 54,
   "metadata": {},
   "outputs": [
    {
     "data": {
      "text/plain": [
       "687                 Health and Fitness\n",
       "11                              Travel\n",
       "674                 Health and Fitness\n",
       "389    Social Networking and Messaging\n",
       "501                               News\n",
       "Name: Category, dtype: object"
      ]
     },
     "execution_count": 54,
     "metadata": {},
     "output_type": "execute_result"
    }
   ],
   "source": [
    "train_y.head()"
   ]
  },
  {
   "cell_type": "code",
   "execution_count": 55,
   "metadata": {},
   "outputs": [
    {
     "data": {
      "text/plain": [
       "1085    [0.009488959, -0.02514388, 0.023534482, -0.078...\n",
       "1302    [-0.33890694, 0.106245674, 0.2855406, -1.53558...\n",
       "659     [-0.33890694, 0.106245674, 0.2855406, -1.53558...\n",
       "799     [0.16307248, -0.06014709, -0.01481978, -0.2566...\n",
       "1151    [0.19710861, -0.17957535, 0.060749494, -0.3021...\n",
       "9       [0.03816599, 0.20000824, 0.24400915, -0.252845...\n",
       "433     [-0.3765472, -0.29769564, 0.88619155, -1.07287...\n",
       "762     [-0.067756444, -0.03908255, 0.1054828, -0.1347...\n",
       "1104    [-1.0169234, 0.53083366, 0.9268717, -0.3041664...\n",
       "1001    [0.027246084, 0.0934391, 0.11399956, -0.841573...\n",
       "1031    [-1.0169234, 0.53083366, 0.9268717, -0.3041664...\n",
       "1108    [-0.054771036, 0.040721085, 0.02335798, -0.178...\n",
       "1270    [0.0031282008, -0.0012948546, 0.0028810566, -0...\n",
       "1219    [0.0058677155, -0.0031571903, 0.014938566, -0....\n",
       "521     [0.055464923, -0.01695721, 0.047612313, -0.111...\n",
       "914     [-0.33890694, 0.106245674, 0.2855406, -1.53558...\n",
       "219     [0.037609763, -0.009855969, 0.034573175, -0.14...\n",
       "630     [0.27942106, 0.23212953, 0.54991937, -0.739941...\n",
       "295     [-0.21178412, -0.10790556, -0.93826896, -1.003...\n",
       "566     [0.90049, -0.24220182, 0.06369182, -0.38611832...\n",
       "Name: cleaned_website_text, dtype: object"
      ]
     },
     "execution_count": 55,
     "metadata": {},
     "output_type": "execute_result"
    }
   ],
   "source": [
    "sent_embd.sample(20)"
   ]
  },
  {
   "cell_type": "code",
   "execution_count": 61,
   "metadata": {},
   "outputs": [
    {
     "data": {
      "text/plain": [
       "array([ 0.06278988,  0.29181838,  0.6521499 , -0.32180253,  0.02264168,\n",
       "       -0.3519604 , -0.78347725, -0.6979313 ,  0.25599012, -0.25175694,\n",
       "        0.2856741 , -0.32531157, -0.26015553, -1.5552596 ,  0.5272875 ,\n",
       "        1.0704004 , -0.3751046 , -0.23805746, -0.03389641, -0.24363537,\n",
       "        0.87356013,  0.9958333 ,  0.08311918, -0.498211  ,  0.04331426,\n",
       "        0.88714445, -0.04848563,  0.35579857,  0.03863275, -0.51167834,\n",
       "       -0.66228104, -0.30390885, -0.2794759 , -0.20365167, -0.5229814 ,\n",
       "        0.7332647 ,  1.2891887 ,  0.05505977,  0.8364264 , -0.47503322,\n",
       "        0.21136373,  0.16994663,  0.505613  , -0.31788924,  0.6566354 ,\n",
       "        0.06009548,  0.31700256, -0.8758507 , -0.4881885 , -0.75288785,\n",
       "       -0.12682062, -0.6044602 , -0.31850842,  0.58377355, -0.35288352,\n",
       "       -0.37721643,  0.33947486, -0.6324503 , -0.13416924,  0.10852017,\n",
       "        0.5727902 , -0.40897655, -0.7931937 ,  0.21823297,  0.49939975,\n",
       "       -0.41949975,  0.8043293 ,  0.02567273, -0.6916265 , -0.45610106,\n",
       "        0.13559702, -0.79777783, -1.0264639 , -0.44488916,  0.809261  ,\n",
       "       -0.1840558 , -0.15842912,  0.22054918, -0.01448361,  0.23266838,\n",
       "       -0.16081011, -0.32388356, -0.27225745,  1.3629323 ,  0.43254668,\n",
       "        1.4653015 ,  0.29436502,  0.11003076,  0.47872275, -0.16033196,\n",
       "       -1.0627614 , -1.394969  , -0.2859494 ,  0.2965011 ,  0.99375767,\n",
       "        0.1794406 ,  0.36710584, -0.30864897, -1.3692907 ,  0.02895669,\n",
       "       -0.09191854,  0.15954842,  0.02720612, -0.43808016,  0.44767323,\n",
       "        0.02706486,  0.49269444,  0.215312  ,  0.10772604, -0.5655732 ,\n",
       "        0.2003662 ,  0.08628237,  0.28795078,  0.40811053,  0.07447152,\n",
       "       -0.2118139 ,  0.08167801,  0.6830592 ,  0.19535658, -0.52691877,\n",
       "       -0.76326877,  0.07852507, -0.7135111 ,  0.05610386, -0.40326217,\n",
       "       -0.8015914 , -0.6060286 , -0.71526736], dtype=float32)"
      ]
     },
     "execution_count": 61,
     "metadata": {},
     "output_type": "execute_result"
    }
   ],
   "source": [
    "train_x[0]"
   ]
  },
  {
   "cell_type": "code",
   "execution_count": 62,
   "metadata": {},
   "outputs": [],
   "source": [
    "from sklearn.linear_model import LogisticRegression"
   ]
  },
  {
   "cell_type": "code",
   "execution_count": 63,
   "metadata": {},
   "outputs": [],
   "source": [
    "model = LogisticRegression()"
   ]
  },
  {
   "cell_type": "code",
   "execution_count": 64,
   "metadata": {},
   "outputs": [
    {
     "name": "stderr",
     "output_type": "stream",
     "text": [
      "C:\\Users\\RAMAKRISHNAN\\anaconda3\\lib\\site-packages\\sklearn\\linear_model\\_logistic.py:762: ConvergenceWarning: lbfgs failed to converge (status=1):\n",
      "STOP: TOTAL NO. of ITERATIONS REACHED LIMIT.\n",
      "\n",
      "Increase the number of iterations (max_iter) or scale the data as shown in:\n",
      "    https://scikit-learn.org/stable/modules/preprocessing.html\n",
      "Please also refer to the documentation for alternative solver options:\n",
      "    https://scikit-learn.org/stable/modules/linear_model.html#logistic-regression\n",
      "  n_iter_i = _check_optimize_result(\n"
     ]
    },
    {
     "data": {
      "text/plain": [
       "LogisticRegression()"
      ]
     },
     "execution_count": 64,
     "metadata": {},
     "output_type": "execute_result"
    }
   ],
   "source": [
    "model.fit(list(train_x),train_y)"
   ]
  },
  {
   "cell_type": "code",
   "execution_count": 65,
   "metadata": {},
   "outputs": [
    {
     "data": {
      "text/plain": [
       "128"
      ]
     },
     "execution_count": 65,
     "metadata": {},
     "output_type": "execute_result"
    }
   ],
   "source": [
    "len(train_x[0])"
   ]
  },
  {
   "cell_type": "code",
   "execution_count": 66,
   "metadata": {},
   "outputs": [],
   "source": [
    "sent_embd_len = sent_embd.map(lambda x: len(x))"
   ]
  },
  {
   "cell_type": "code",
   "execution_count": 67,
   "metadata": {},
   "outputs": [
    {
     "data": {
      "text/plain": [
       "1"
      ]
     },
     "execution_count": 67,
     "metadata": {},
     "output_type": "execute_result"
    }
   ],
   "source": [
    "sent_embd_len.nunique()"
   ]
  },
  {
   "cell_type": "code",
   "execution_count": 70,
   "metadata": {},
   "outputs": [],
   "source": [
    "y_pred_log = model.predict(list(test_x))\n",
    "                          "
   ]
  },
  {
   "cell_type": "code",
   "execution_count": 72,
   "metadata": {},
   "outputs": [
    {
     "name": "stdout",
     "output_type": "stream",
     "text": [
      "                                 precision    recall  f1-score   support\n",
      "\n",
      "                          Adult       1.00      0.33      0.50         3\n",
      "             Business/Corporate       0.17      0.04      0.06        26\n",
      "       Computers and Technology       0.20      0.24      0.22        21\n",
      "                     E-Commerce       0.50      0.19      0.28        21\n",
      "                      Education       0.25      0.38      0.30        16\n",
      "                           Food       0.45      0.50      0.47        18\n",
      "                         Forums       0.00      0.00      0.00         5\n",
      "                          Games       0.33      0.33      0.33        15\n",
      "             Health and Fitness       0.35      0.27      0.31        22\n",
      "             Law and Government       0.38      0.53      0.44        17\n",
      "                           News       0.50      0.47      0.48        15\n",
      "                    Photography       0.20      0.05      0.08        21\n",
      "Social Networking and Messaging       0.40      0.27      0.32        15\n",
      "                         Sports       0.75      0.45      0.56        20\n",
      "             Streaming Services       0.20      0.71      0.32        21\n",
      "                         Travel       0.52      0.54      0.53        26\n",
      "\n",
      "                       accuracy                           0.34       282\n",
      "                      macro avg       0.39      0.33      0.32       282\n",
      "                   weighted avg       0.37      0.34      0.32       282\n",
      "\n"
     ]
    },
    {
     "name": "stderr",
     "output_type": "stream",
     "text": [
      "C:\\Users\\RAMAKRISHNAN\\anaconda3\\lib\\site-packages\\sklearn\\metrics\\_classification.py:1221: UndefinedMetricWarning: Precision and F-score are ill-defined and being set to 0.0 in labels with no predicted samples. Use `zero_division` parameter to control this behavior.\n",
      "  _warn_prf(average, modifier, msg_start, len(result))\n"
     ]
    }
   ],
   "source": [
    "print(classification_report(test_y,y_pred_log))"
   ]
  },
  {
   "cell_type": "code",
   "execution_count": null,
   "metadata": {},
   "outputs": [],
   "source": []
  }
 ],
 "metadata": {
  "kernelspec": {
   "display_name": "Python 3",
   "language": "python",
   "name": "python3"
  },
  "language_info": {
   "codemirror_mode": {
    "name": "ipython",
    "version": 3
   },
   "file_extension": ".py",
   "mimetype": "text/x-python",
   "name": "python",
   "nbconvert_exporter": "python",
   "pygments_lexer": "ipython3",
   "version": "3.8.5"
  }
 },
 "nbformat": 4,
 "nbformat_minor": 4
}
